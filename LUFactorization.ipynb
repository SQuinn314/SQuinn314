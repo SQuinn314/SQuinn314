{
  "nbformat": 4,
  "nbformat_minor": 0,
  "metadata": {
    "colab": {
      "provenance": [],
      "authorship_tag": "ABX9TyP1IvL6RWf9dthONAKNotqJ",
      "include_colab_link": true
    },
    "kernelspec": {
      "name": "python3",
      "display_name": "Python 3"
    },
    "language_info": {
      "name": "python"
    }
  },
  "cells": [
    {
      "cell_type": "markdown",
      "metadata": {
        "id": "view-in-github",
        "colab_type": "text"
      },
      "source": [
        "<a href=\"https://colab.research.google.com/github/SQuinn314/SQuinn314/blob/main/LUFactorization.ipynb\" target=\"_parent\"><img src=\"https://colab.research.google.com/assets/colab-badge.svg\" alt=\"Open In Colab\"/></a>"
      ]
    },
    {
      "cell_type": "markdown",
      "source": [
        "# $LU$-Factorization\n",
        "\n",
        "Given a square matrix $A$, we wish to find upper and lower triangular matrices $L$ and $U$ such that $A = LU$.\n",
        "\n",
        "We will do this by performing a series of elementary operations on $A$ which transform it into an upper triangular matrix $U$.  These operations can be expressed as a sequence of elementary matrix multiplications.\n",
        "\n"
      ],
      "metadata": {
        "id": "5zcAqsUss0ZN"
      }
    },
    {
      "cell_type": "code",
      "execution_count": 2,
      "metadata": {
        "colab": {
          "base_uri": "https://localhost:8080/",
          "height": 78
        },
        "id": "CSjmerDnszrU",
        "outputId": "1ac3da21-cbd8-42c6-fb2b-19041bf2cd37"
      },
      "outputs": [
        {
          "output_type": "execute_result",
          "data": {
            "text/plain": [
              "Matrix([\n",
              "[ 1,   7,  -2],\n",
              "[ 2,  23,  32],\n",
              "[-3, -26, -11]])"
            ],
            "text/latex": "$\\displaystyle \\left[\\begin{matrix}1 & 7 & -2\\\\2 & 23 & 32\\\\-3 & -26 & -11\\end{matrix}\\right]$"
          },
          "metadata": {},
          "execution_count": 2
        }
      ],
      "source": [
        "from sympy import Matrix\n",
        "from IPython.display import Math, display\n",
        "\n",
        "A = Matrix(3,3, [1, 7, -2, 2, 23, 32, -3, -26, -11])\n",
        "A"
      ]
    },
    {
      "cell_type": "markdown",
      "source": [
        "Elementary Operation 1: Add -2 times Row One to Row Two."
      ],
      "metadata": {
        "id": "nIk-Gja6teuq"
      }
    },
    {
      "cell_type": "code",
      "source": [
        "E1 = Matrix([[1, 0, 0],\n",
        "             [-2, 1, 0],\n",
        "              [0, 0, 1]])\n",
        "print(\"E1 is\")\n",
        "display(E1)\n",
        "print(\"E1*A is\")\n",
        "display(E1*A)"
      ],
      "metadata": {
        "colab": {
          "base_uri": "https://localhost:8080/",
          "height": 174
        },
        "id": "nOGedyhhtebh",
        "outputId": "51fc3452-5f5d-4655-da5d-1bf7c8ab3db7"
      },
      "execution_count": 5,
      "outputs": [
        {
          "output_type": "stream",
          "name": "stdout",
          "text": [
            "E1 is\n"
          ]
        },
        {
          "output_type": "display_data",
          "data": {
            "text/plain": [
              "Matrix([\n",
              "[ 1, 0, 0],\n",
              "[-2, 1, 0],\n",
              "[ 0, 0, 1]])"
            ],
            "text/latex": "$\\displaystyle \\left[\\begin{matrix}1 & 0 & 0\\\\-2 & 1 & 0\\\\0 & 0 & 1\\end{matrix}\\right]$"
          },
          "metadata": {}
        },
        {
          "output_type": "stream",
          "name": "stdout",
          "text": [
            "E1*A is\n"
          ]
        },
        {
          "output_type": "display_data",
          "data": {
            "text/plain": [
              "Matrix([\n",
              "[ 1,   7,  -2],\n",
              "[ 0,   9,  36],\n",
              "[-3, -26, -11]])"
            ],
            "text/latex": "$\\displaystyle \\left[\\begin{matrix}1 & 7 & -2\\\\0 & 9 & 36\\\\-3 & -26 & -11\\end{matrix}\\right]$"
          },
          "metadata": {}
        }
      ]
    },
    {
      "cell_type": "markdown",
      "source": [
        "Elementary Operation 2: Add 3 times Row One to Row Three."
      ],
      "metadata": {
        "id": "vm13tQwBt7Uo"
      }
    },
    {
      "cell_type": "code",
      "source": [
        "E2 = Matrix([[1, 0, 0],\n",
        "             [0, 1, 0],\n",
        "              [3, 0, 1]])\n",
        "print(\"E2 is\")\n",
        "display(E2)\n",
        "print(\"E2*E1*A is\")\n",
        "display(E2*E1*A)"
      ],
      "metadata": {
        "colab": {
          "base_uri": "https://localhost:8080/",
          "height": 174
        },
        "id": "CRRQXlPzt7IN",
        "outputId": "a408025f-0ac6-4cca-ef9d-347704ecc7d7"
      },
      "execution_count": 7,
      "outputs": [
        {
          "output_type": "stream",
          "name": "stdout",
          "text": [
            "E2 is\n"
          ]
        },
        {
          "output_type": "display_data",
          "data": {
            "text/plain": [
              "Matrix([\n",
              "[1, 0, 0],\n",
              "[0, 1, 0],\n",
              "[3, 0, 1]])"
            ],
            "text/latex": "$\\displaystyle \\left[\\begin{matrix}1 & 0 & 0\\\\0 & 1 & 0\\\\3 & 0 & 1\\end{matrix}\\right]$"
          },
          "metadata": {}
        },
        {
          "output_type": "stream",
          "name": "stdout",
          "text": [
            "E2*E1*A is\n"
          ]
        },
        {
          "output_type": "display_data",
          "data": {
            "text/plain": [
              "Matrix([\n",
              "[1,  7,  -2],\n",
              "[0,  9,  36],\n",
              "[0, -5, -17]])"
            ],
            "text/latex": "$\\displaystyle \\left[\\begin{matrix}1 & 7 & -2\\\\0 & 9 & 36\\\\0 & -5 & -17\\end{matrix}\\right]$"
          },
          "metadata": {}
        }
      ]
    },
    {
      "cell_type": "markdown",
      "source": [
        "Elementary Operation 3: Scale Row Two by 1/9."
      ],
      "metadata": {
        "id": "MDDsMy4UuOcv"
      }
    },
    {
      "cell_type": "code",
      "source": [
        "E3 = Matrix([[1, 0, 0],\n",
        "              [0, 1/9, 0],\n",
        "              [0, 0, 1]])\n",
        "print(\"E3 is\")\n",
        "display(E3)\n",
        "print(\"E3*E2*E1*A is\")\n",
        "display(E3*E2*E1*A)"
      ],
      "metadata": {
        "colab": {
          "base_uri": "https://localhost:8080/",
          "height": 174
        },
        "id": "A_8FVdICtWId",
        "outputId": "9e00b05e-bbb4-4fdf-8477-181385b8f90f"
      },
      "execution_count": 8,
      "outputs": [
        {
          "output_type": "stream",
          "name": "stdout",
          "text": [
            "E3 is\n"
          ]
        },
        {
          "output_type": "display_data",
          "data": {
            "text/plain": [
              "Matrix([\n",
              "[1,                 0, 0],\n",
              "[0, 0.111111111111111, 0],\n",
              "[0,                 0, 1]])"
            ],
            "text/latex": "$\\displaystyle \\left[\\begin{matrix}1 & 0 & 0\\\\0 & 0.111111111111111 & 0\\\\0 & 0 & 1\\end{matrix}\\right]$"
          },
          "metadata": {}
        },
        {
          "output_type": "stream",
          "name": "stdout",
          "text": [
            "E3*E2*E1*A is\n"
          ]
        },
        {
          "output_type": "display_data",
          "data": {
            "text/plain": [
              "Matrix([\n",
              "[1,   7,  -2],\n",
              "[0, 1.0, 4.0],\n",
              "[0,  -5, -17]])"
            ],
            "text/latex": "$\\displaystyle \\left[\\begin{matrix}1 & 7 & -2\\\\0 & 1.0 & 4.0\\\\0 & -5 & -17\\end{matrix}\\right]$"
          },
          "metadata": {}
        }
      ]
    },
    {
      "cell_type": "markdown",
      "source": [
        "Elementary Operation 4: Add 5 times Row Two to Row Three."
      ],
      "metadata": {
        "id": "G9mVWDVkvS_V"
      }
    },
    {
      "cell_type": "code",
      "source": [
        "E4 = Matrix([[1, 0, 0],\n",
        "              [0, 1, 0],\n",
        "              [0, 5, 1]])\n",
        "print(\"E4 is\")\n",
        "display(E4)\n",
        "print(\"E4*E3*E2*E1*A is\")\n",
        "display(E4*E3*E2*E1*A)"
      ],
      "metadata": {
        "colab": {
          "base_uri": "https://localhost:8080/",
          "height": 174
        },
        "id": "1ir3xuqIua61",
        "outputId": "e5fdfa72-4c23-4680-b05c-4bd0c7bc575d"
      },
      "execution_count": 10,
      "outputs": [
        {
          "output_type": "stream",
          "name": "stdout",
          "text": [
            "E4 is\n"
          ]
        },
        {
          "output_type": "display_data",
          "data": {
            "text/plain": [
              "Matrix([\n",
              "[1, 0, 0],\n",
              "[0, 1, 0],\n",
              "[0, 5, 1]])"
            ],
            "text/latex": "$\\displaystyle \\left[\\begin{matrix}1 & 0 & 0\\\\0 & 1 & 0\\\\0 & 5 & 1\\end{matrix}\\right]$"
          },
          "metadata": {}
        },
        {
          "output_type": "stream",
          "name": "stdout",
          "text": [
            "E4*E3*E2*E1*A is\n"
          ]
        },
        {
          "output_type": "display_data",
          "data": {
            "text/plain": [
              "Matrix([\n",
              "[1,   7,  -2],\n",
              "[0, 1.0, 4.0],\n",
              "[0,   0, 3.0]])"
            ],
            "text/latex": "$\\displaystyle \\left[\\begin{matrix}1 & 7 & -2\\\\0 & 1.0 & 4.0\\\\0 & 0 & 3.0\\end{matrix}\\right]$"
          },
          "metadata": {}
        }
      ]
    },
    {
      "cell_type": "markdown",
      "source": [
        "Elementary Operation 5: Scale Row Three by 1/3."
      ],
      "metadata": {
        "id": "rmu9GV3TvfxF"
      }
    },
    {
      "cell_type": "code",
      "source": [
        "E5 = Matrix([[1, 0, 0],\n",
        "              [0, 1, 0],\n",
        "              [0, 0, 1/(3)]])\n",
        "print(\"E5 is\")\n",
        "display(E5)\n",
        "print(\"E5*E4*E3*E2*E1*A is\")\n",
        "display(E5*E4*E3*E2*E1*A)"
      ],
      "metadata": {
        "colab": {
          "base_uri": "https://localhost:8080/",
          "height": 174
        },
        "id": "Xga1Aa4tueU-",
        "outputId": "9c68001d-b05d-4802-f482-40951b035d52"
      },
      "execution_count": 13,
      "outputs": [
        {
          "output_type": "stream",
          "name": "stdout",
          "text": [
            "E5 is\n"
          ]
        },
        {
          "output_type": "display_data",
          "data": {
            "text/plain": [
              "Matrix([\n",
              "[1, 0,                 0],\n",
              "[0, 1,                 0],\n",
              "[0, 0, 0.333333333333333]])"
            ],
            "text/latex": "$\\displaystyle \\left[\\begin{matrix}1 & 0 & 0\\\\0 & 1 & 0\\\\0 & 0 & 0.333333333333333\\end{matrix}\\right]$"
          },
          "metadata": {}
        },
        {
          "output_type": "stream",
          "name": "stdout",
          "text": [
            "E5*E4*E3*E2*E1*A is\n"
          ]
        },
        {
          "output_type": "display_data",
          "data": {
            "text/plain": [
              "Matrix([\n",
              "[1,                    7,                -2],\n",
              "[0,                  1.0,               4.0],\n",
              "[0, 1.77635683940025e-15, 0.999999999999999]])"
            ],
            "text/latex": "$\\displaystyle \\left[\\begin{matrix}1 & 7 & -2\\\\0 & 1.0 & 4.0\\\\0 & 1.77635683940025 \\cdot 10^{-15} & 0.999999999999999\\end{matrix}\\right]$"
          },
          "metadata": {}
        }
      ]
    },
    {
      "cell_type": "markdown",
      "source": [
        "At this stage, we are done.  We have $A \\sim U$, by a sequence of elementary operations.\n",
        "\n",
        "Notice that the matrices $E_1, E_2, E_3, E_4, E_5$ are lower triangular (because they are working on elements below the diagonal of $A$).  Their product and inverses are also lower triangular.\n",
        "\n",
        "$$L A = U$$"
      ],
      "metadata": {
        "id": "jDWBBaDbvmsf"
      }
    },
    {
      "cell_type": "code",
      "source": [
        "U = E5*E4*E3*E2*E1*A\n",
        "L = E5 * E4 * E3 * E2 * E1\n",
        "display(L)"
      ],
      "metadata": {
        "colab": {
          "base_uri": "https://localhost:8080/",
          "height": 78
        },
        "id": "7MjKz6NYvmag",
        "outputId": "0713522e-7898-487b-e792-af95b0e65696"
      },
      "execution_count": 17,
      "outputs": [
        {
          "output_type": "display_data",
          "data": {
            "text/plain": [
              "Matrix([\n",
              "[                 1,                 0,                 0],\n",
              "[-0.222222222222222, 0.111111111111111,                 0],\n",
              "[  0.62962962962963, 0.185185185185185, 0.333333333333333]])"
            ],
            "text/latex": "$\\displaystyle \\left[\\begin{matrix}1 & 0 & 0\\\\-0.222222222222222 & 0.111111111111111 & 0\\\\0.62962962962963 & 0.185185185185185 & 0.333333333333333\\end{matrix}\\right]$"
          },
          "metadata": {}
        }
      ]
    },
    {
      "cell_type": "markdown",
      "source": [
        "But we want $$A = L^{-1} U$$\n",
        "\n",
        "We can easily find the inverse with Python."
      ],
      "metadata": {
        "id": "T8_DiEnwwOMP"
      }
    },
    {
      "cell_type": "code",
      "source": [
        "LInv = L.inv()\n",
        "LInv"
      ],
      "metadata": {
        "colab": {
          "base_uri": "https://localhost:8080/",
          "height": 78
        },
        "id": "VhYZJ1IWufXg",
        "outputId": "1fb19e08-bfea-4965-f9c8-3bd176226b4d"
      },
      "execution_count": 19,
      "outputs": [
        {
          "output_type": "execute_result",
          "data": {
            "text/plain": [
              "Matrix([\n",
              "[   1,    0,   0],\n",
              "[ 2.0,  9.0,   0],\n",
              "[-3.0, -5.0, 3.0]])"
            ],
            "text/latex": "$\\displaystyle \\left[\\begin{matrix}1 & 0 & 0\\\\2.0 & 9.0 & 0\\\\-3.0 & -5.0 & 3.0\\end{matrix}\\right]$"
          },
          "metadata": {},
          "execution_count": 19
        }
      ]
    },
    {
      "cell_type": "code",
      "source": [
        "# Getting latex for matrices A, LInv, U.\n",
        "from sympy import print_latex\n",
        "print_latex(A)\n",
        "print_latex(LInv)\n",
        "print_latex(U)"
      ],
      "metadata": {
        "colab": {
          "base_uri": "https://localhost:8080/",
          "height": 0
        },
        "id": "-CY6xkfPwg-W",
        "outputId": "87433cb3-66d9-4ede-a31b-84c764018a34"
      },
      "execution_count": 22,
      "outputs": [
        {
          "output_type": "stream",
          "name": "stdout",
          "text": [
            "\\left[\\begin{matrix}1 & 7 & -2\\\\2 & 23 & 32\\\\-3 & -26 & -11\\end{matrix}\\right]\n",
            "\\left[\\begin{matrix}1 & 0 & 0\\\\2.0 & 9.0 & 0\\\\-3.0 & -5.0 & 3.0\\end{matrix}\\right]\n",
            "\\left[\\begin{matrix}1 & 7 & -2\\\\0 & 1.0 & 4.0\\\\0 & 1.77635683940025 \\cdot 10^{-15} & 0.999999999999999\\end{matrix}\\right]\n"
          ]
        }
      ]
    },
    {
      "cell_type": "markdown",
      "source": [
        "Hence, we have\n",
        "$$ \\left[\\begin{matrix}1 & 7 & -2\\\\2 & 23 & 32\\\\-3 & -26 & -11\\end{matrix}\\right] =\n",
        "\\left[\\begin{matrix}1 & 0 & 0\\\\2 & 9 & 0\\\\-3 & -5 & 3\\end{matrix}\\right]\n",
        "\\left[\\begin{matrix}1 & 7 & -2\\\\0 & 1 & 4\\\\0 & 0 & 1 \\end{matrix}\\right] $$\n"
      ],
      "metadata": {
        "id": "NV9e8w2twxuG"
      }
    }
  ]
}