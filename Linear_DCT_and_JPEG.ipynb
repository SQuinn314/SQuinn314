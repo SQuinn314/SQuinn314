{
  "nbformat": 4,
  "nbformat_minor": 0,
  "metadata": {
    "colab": {
      "name": "Linear - DCT and JPEG.ipynb",
      "provenance": [],
      "collapsed_sections": [],
      "authorship_tag": "ABX9TyMj2+U7QqCSvq3dWRUswDtZ",
      "include_colab_link": true
    },
    "kernelspec": {
      "name": "python3",
      "display_name": "Python 3"
    },
    "language_info": {
      "name": "python"
    }
  },
  "cells": [
    {
      "cell_type": "markdown",
      "metadata": {
        "id": "view-in-github",
        "colab_type": "text"
      },
      "source": [
        "<a href=\"https://colab.research.google.com/github/SQuinn314/SQuinn314/blob/main/Linear_DCT_and_JPEG.ipynb\" target=\"_parent\"><img src=\"https://colab.research.google.com/assets/colab-badge.svg\" alt=\"Open In Colab\"/></a>"
      ]
    },
    {
      "cell_type": "markdown",
      "metadata": {
        "id": "l41VzHUSHl5W"
      },
      "source": [
        "# JPEGs and the Discrete Cosine Transform\n",
        "\n",
        "The goal of this lecture is to see how an orthogonal basis can be used to encode images.\n",
        "\n",
        "$$ X_k = \\sum_{n=0}^{N-1} x_n \\cos\\left(\\frac{\\pi}{N} \\left(n + \\frac{1}{2} \\right) k \\right) $$\n",
        "\n"
      ]
    },
    {
      "cell_type": "markdown",
      "metadata": {
        "id": "qJSW_zNaKWs3"
      },
      "source": [
        "First, get some packages to run this program.  `PIL` is for image processing, `numpy` is a mathematics package, `google.colab` is to load and save files with Colab."
      ]
    },
    {
      "cell_type": "code",
      "metadata": {
        "id": "O8AZLQu12kCP"
      },
      "source": [
        "from IPython.display import display\n",
        "from PIL import Image as Img\n",
        "from PIL import ImageTk\n",
        "import numpy as np\n",
        "from IPython.display import Image\n",
        "from google.colab import files\n"
      ],
      "execution_count": null,
      "outputs": []
    },
    {
      "cell_type": "markdown",
      "metadata": {
        "id": "dcDrrXUVOZ8W"
      },
      "source": [
        "Next little bit will demonstrate how to work with images."
      ]
    },
    {
      "cell_type": "code",
      "metadata": {
        "colab": {
          "base_uri": "https://localhost:8080/",
          "height": 417
        },
        "id": "QfLh8IAxOYYL",
        "outputId": "a269c437-d75c-44aa-82f0-8a085a9842ba"
      },
      "source": [
        "\n",
        "# This is a simple example how pixels are stored.  This is a 4x4 image with RGB.\n",
        "pixels = [\n",
        "   [(54, 54, 54), (232, 23, 93), (71, 71, 71), (168, 167, 167)],\n",
        "   [(204, 82, 122), (54, 54, 54), (168, 167, 167), (232, 23, 93)],\n",
        "   [(71, 71, 71), (168, 167, 167), (54, 54, 54), (204, 82, 122)],\n",
        "   [(168, 167, 167), (204, 82, 122), (232, 23, 93), (54, 54, 54)]\n",
        "]\n",
        "\n",
        "# Convert the pixels into an array using numpy\n",
        "array = np.array(pixels, dtype=np.uint8)\n",
        "\n",
        "# Use PIL to create an image from the new array of pixels\n",
        "new_image = Img.fromarray(array)\n",
        "\n",
        "large_img = new_image.resize((400,400),Img.NEAREST)\n",
        "large_img.save('mypic.png')\n",
        "\n",
        "Image('mypic.png', width=400, height=400)"
      ],
      "execution_count": null,
      "outputs": [
        {
          "output_type": "execute_result",
          "data": {
            "image/png": "[encoded data removed]",
            "text/plain": [
              "<IPython.core.display.Image object>"
            ]
          },
          "metadata": {
            "tags": [],
            "image/png": {
              "width": 400,
              "height": 400
            }
          },
          "execution_count": 3
        }
      ]
    },
    {
      "cell_type": "markdown",
      "metadata": {
        "id": "X4E_GU9YOkQH"
      },
      "source": [
        "Next, we have some functions we will use.\n",
        "\n",
        "`dct` is the discrete cosine transform.  It turns an $8 \\times 8$ pixel into an $8 \\times 8$ (frequency values).\n",
        "\n",
        "`dct` is the inverse discrete cosine transform.  It turns an $8 \\times 8$ grid of frequency information back into pixel intensity.\n",
        "\n",
        "The Discrete Cosine Transform considers an $8 \\times 8$ array $A$ is\n",
        "\n",
        "$$ G(u,v) = \\frac{1}{4} \\alpha(u) \\alpha(v) \\sum_{x=0}^7 \\sum_{y=0}^7 a_{x,y} \\cos\\left( \\frac{(2x+1) u \\pi}{16} \\right) \\cos\\left( \\frac{(2y+1) v \\pi}{16}\\right) $$\n",
        "where $$\\alpha(u) = \\begin{cases} \\frac{1}{\\sqrt{2}} & u = 0 \\\\ 1 & u \\neq 0 \\end{cases}$$ is the normalizing factor.\n",
        "\n",
        "The values of $u$ and $v$ are the horizontal and vertical frequencies, respectively.  Note that when $u = 0$ and $v=0$, the cosines are constants.  Otherwise, for $x=0 \\dots 7$, you have one cycle of the cosine.\n",
        "\n"
      ]
    },
    {
      "cell_type": "code",
      "metadata": {
        "id": "_KB8mgmf2y4h"
      },
      "source": [
        "def dct(square,u,v):\n",
        "  au = alpha(u)\n",
        "  av = alpha(v)\n",
        "  doublesum = 0.0\n",
        "  for x in range(8):\n",
        "    for y in range(8):\n",
        "      doublesum += square[x][y] * np.cos((2*x+1)*u*np.pi/16) * np.cos((2*y+1)*v*np.pi/16)\n",
        "  return au*av*doublesum/4\n",
        "\n",
        "def dctdecode(square, x, y):\n",
        "  value = 0.0\n",
        "  for u in range(8):\n",
        "    for v in range(8):\n",
        "      au = alpha(u)\n",
        "      av = alpha(v)\n",
        "      value += au*av*square[u][v] * np.cos((2*x+1)*u*np.pi/16) * np.cos((2*y+1)*v*np.pi/16)\n",
        "  return value/4\n",
        "\n",
        "def alpha(u):\n",
        "  if u==0:\n",
        "    return 1/np.sqrt(2)\n",
        "  else:\n",
        "    return 1\n",
        "\n",
        "def displayLargeImage(image):\n",
        "  large_img = image.resize((400,400),Img.NEAREST)\n",
        "  large_img.save('mypic.png')\n",
        "  Image('mypic.png', width=400, height=400)\n"
      ],
      "execution_count": null,
      "outputs": []
    },
    {
      "cell_type": "markdown",
      "metadata": {
        "id": "TWqPsleCSGSQ"
      },
      "source": [
        "Here, let us look at how simple looking images get encoded.\n",
        "\n",
        "First up, a gradient image."
      ]
    },
    {
      "cell_type": "code",
      "metadata": {
        "colab": {
          "base_uri": "https://localhost:8080/",
          "height": 417
        },
        "id": "0FQH3dof9mzQ",
        "outputId": "22413b4f-1fbf-4ffc-f934-9e52d7664fd4"
      },
      "source": [
        "# gradient between 0 and 1 for 256*256\n",
        "array = np.linspace(0,1,8*8) # 64 values increasing from 0 to 1 evenly.\n",
        "gradientMatrix = np.reshape(array,(8,8)) # Turn the list into an 8x8 grid\n",
        "gradientMatrix = np.uint8(gradientMatrix * 255) # Let values range from 0 to 255, round to nearest integer, express with 8 bits.\n",
        "\n",
        "\n",
        "# Creates PIL image\n",
        "img = Img.fromarray(gradientMatrix , 'L')\n",
        "\n",
        "large_img = img.resize((400,400),Img.NEAREST)\n",
        "large_img.save('mypic.png')\n",
        "Image('mypic.png', width=400, height=400)"
      ],
      "execution_count": null,
      "outputs": [
        {
          "output_type": "execute_result",
          "data": {
            "image/png": "[encoded data removed]",
            "text/plain": [
              "<IPython.core.display.Image object>"
            ]
          },
          "metadata": {
            "tags": [],
            "image/png": {
              "width": 400,
              "height": 400
            }
          },
          "execution_count": 5
        }
      ]
    },
    {
      "cell_type": "code",
      "metadata": {
        "colab": {
          "base_uri": "https://localhost:8080/"
        },
        "id": "XSxJQEnHsDVv",
        "outputId": "8c876482-7d4e-4b63-ebaa-4e6b15638e28"
      },
      "source": [
        "gradientMatrix"
      ],
      "execution_count": null,
      "outputs": [
        {
          "output_type": "execute_result",
          "data": {
            "text/plain": [
              "array([[  0,   4,   8,  12,  16,  20,  24,  28],\n",
              "       [ 32,  36,  40,  44,  48,  52,  56,  60],\n",
              "       [ 64,  68,  72,  76,  80,  85,  89,  93],\n",
              "       [ 97, 101, 105, 109, 113, 117, 121, 125],\n",
              "       [129, 133, 137, 141, 145, 149, 153, 157],\n",
              "       [161, 165, 170, 174, 178, 182, 186, 190],\n",
              "       [194, 198, 202, 206, 210, 214, 218, 222],\n",
              "       [226, 230, 234, 238, 242, 246, 250, 255]], dtype=uint8)"
            ]
          },
          "metadata": {
            "tags": []
          },
          "execution_count": 6
        }
      ]
    },
    {
      "cell_type": "code",
      "metadata": {
        "colab": {
          "base_uri": "https://localhost:8080/"
        },
        "id": "J2GiPX_kSCHA",
        "outputId": "52025e9f-ddbb-4497-d9ed-ba74e19a247a"
      },
      "source": [
        "myMatrix = gradientMatrix\n",
        "\n",
        "myMatrix = myMatrix - 128\n",
        "\n",
        "dctmat = np.zeros((8,8), dtype=float)\n",
        "for u in range(8):\n",
        "  for v in range(8):\n",
        "    dctmat[u][v] = dct(myMatrix, u, v)\n",
        "\n",
        "dctmat"
      ],
      "execution_count": null,
      "outputs": [
        {
          "output_type": "execute_result",
          "data": {
            "text/plain": [
              "array([[ 1.01625000e+03, -7.37988854e+01,  9.56708581e-02,\n",
              "        -7.81786983e+00,  3.26579231e-14, -2.25531996e+00,\n",
              "         2.30969883e-01, -6.27654278e-01],\n",
              "       [ 3.38402446e+02,  1.63320371e-01,  8.32600029e-02,\n",
              "         3.40097066e-01, -2.71591850e-01,  1.09127183e-01,\n",
              "        -1.15848799e-01, -6.76495125e-02],\n",
              "       [ 9.56708581e-02,  1.73379981e-01,  2.50000000e-01,\n",
              "        -1.64111103e-01,  2.30969883e-01, -1.91016910e-01,\n",
              "        -3.55271368e-15, -3.44874224e-02],\n",
              "       [-3.86820124e+02,  3.40097066e-01, -7.38940732e-01,\n",
              "        -6.76495125e-02,  2.63955304e-02,  1.63320371e-01,\n",
              "        -4.06806885e-02,  2.44426208e-01],\n",
              "       [-1.13046657e-13,  5.65560751e-01,  2.30969883e-01,\n",
              "        -9.53703752e-02,  2.50000000e-01, -2.14060669e-01,\n",
              "        -9.56708581e-02, -1.49518669e-02],\n",
              "       [ 2.00251565e+02,  1.09127183e-01, -1.95355555e-02,\n",
              "         1.63320371e-01, -1.32699292e-01,  6.76495125e-02,\n",
              "        -6.08829528e-02, -1.34563247e-02],\n",
              "       [ 2.30969883e-01, -1.05930516e+00,  1.77635684e-14,\n",
              "        -1.46984450e-01, -9.56708581e-02,  9.82118698e-02,\n",
              "         2.50000000e-01, -4.41888919e-02],\n",
              "       [-1.89786490e+02, -6.76495125e-02,  4.18576301e-01,\n",
              "         2.44426208e-01, -1.81471873e-01, -1.34563247e-02,\n",
              "        -5.16140751e-02, -1.63320371e-01]])"
            ]
          },
          "metadata": {
            "tags": []
          },
          "execution_count": 7
        }
      ]
    },
    {
      "cell_type": "code",
      "metadata": {
        "colab": {
          "base_uri": "https://localhost:8080/"
        },
        "id": "3rUODFhgduW7",
        "outputId": "90eaa590-bc09-4e62-888c-1393c131edc0"
      },
      "source": [
        "dctmat_rounded = dctmat.astype(int)\n",
        "dctmat_rounded"
      ],
      "execution_count": null,
      "outputs": [
        {
          "output_type": "execute_result",
          "data": {
            "text/plain": [
              "array([[1016,  -73,    0,   -7,    0,   -2,    0,    0],\n",
              "       [ 338,    0,    0,    0,    0,    0,    0,    0],\n",
              "       [   0,    0,    0,    0,    0,    0,    0,    0],\n",
              "       [-386,    0,    0,    0,    0,    0,    0,    0],\n",
              "       [   0,    0,    0,    0,    0,    0,    0,    0],\n",
              "       [ 200,    0,    0,    0,    0,    0,    0,    0],\n",
              "       [   0,   -1,    0,    0,    0,    0,    0,    0],\n",
              "       [-189,    0,    0,    0,    0,    0,    0,    0]])"
            ]
          },
          "metadata": {
            "tags": []
          },
          "execution_count": 10
        }
      ]
    },
    {
      "cell_type": "code",
      "metadata": {
        "colab": {
          "base_uri": "https://localhost:8080/",
          "height": 417
        },
        "id": "EV-0RHOfZucM",
        "outputId": "2136fd6c-f0aa-4a48-c811-68a990fa6fd1"
      },
      "source": [
        "uncoded = np.empty((8,8), dtype=float)\n",
        "for x in range(8):\n",
        "  for y in range(8):\n",
        "    uncoded[x][y] = dctdecode(dctmat_rounded, x, y)\n",
        "\n",
        "uncoded = np.uint8(uncoded)\n",
        "uncoded = uncoded + 128\n",
        "\n",
        "img2 = Img.fromarray(np.uint8(uncoded) , 'L')\n",
        "\n",
        "large_img = img2.resize((400,400),Img.NEAREST)\n",
        "large_img.save('mypic.png')\n",
        "Image('mypic.png', width=400, height=400)"
      ],
      "execution_count": null,
      "outputs": [
        {
          "output_type": "execute_result",
          "data": {
            "image/png": "[encoded data removed]",
            "text/plain": [
              "<IPython.core.display.Image object>"
            ]
          },
          "metadata": {
            "tags": [],
            "image/png": {
              "width": 400,
              "height": 400
            }
          },
          "execution_count": 11
        }
      ]
    },
    {
      "cell_type": "code",
      "metadata": {
        "id": "60YoEOhIqhLa",
        "colab": {
          "base_uri": "https://localhost:8080/"
        },
        "outputId": "2703f2e3-ceb0-40a8-c8bf-8706f1d32ab9"
      },
      "source": [
        "np.uint8(uncoded)"
      ],
      "execution_count": null,
      "outputs": [
        {
          "output_type": "execute_result",
          "data": {
            "text/plain": [
              "array([[  0,   3,   7,  11,  16,  20,  24,  27],\n",
              "       [ 32,  35,  39,  43,  47,  51,  55,  59],\n",
              "       [ 64,  67,  72,  76,  80,  84,  88,  92],\n",
              "       [ 96, 100, 104, 108, 112, 116, 120, 124],\n",
              "       [129, 133, 137, 141, 145, 149, 153, 157],\n",
              "       [161, 165, 169, 173, 177, 181, 186, 189],\n",
              "       [194, 198, 202, 206, 210, 214, 218, 221],\n",
              "       [226, 229, 233, 237, 242, 246, 250, 253]], dtype=uint8)"
            ]
          },
          "metadata": {
            "tags": []
          },
          "execution_count": 12
        }
      ]
    },
    {
      "cell_type": "markdown",
      "metadata": {
        "id": "3ix_5Z1jgpxG"
      },
      "source": [
        "Compare this with the original matrix, it is pretty much the same, with most values being off by 1 or so."
      ]
    },
    {
      "cell_type": "markdown",
      "metadata": {
        "id": "U5Qd_4SYgyLE"
      },
      "source": [
        "# Quantization\n",
        "A common technique is to quantize the matrix.  This will try to drop less common or less important frequencies.  A quantization matrix $Q$ is used to componentwise normalize the values."
      ]
    },
    {
      "cell_type": "code",
      "metadata": {
        "colab": {
          "base_uri": "https://localhost:8080/"
        },
        "id": "ux7sAaIXhHJJ",
        "outputId": "d501bd26-4073-4410-e789-34b3b8b8891f"
      },
      "source": [
        "# This is an example Quantization Matrix.\n",
        "quantmatrix = [[16, 11, 10, 16, 24, 40, 51, 61],\n",
        "               [12, 12, 14, 19, 26, 58, 60, 55],\n",
        "               [14, 13, 16, 24, 40, 57, 69, 56],\n",
        "               [14, 17, 22, 29, 51, 87, 80, 62],\n",
        "               [18, 22, 37, 56, 68, 109, 103, 77],\n",
        "               [24, 35, 55, 64, 81, 104, 113, 92],\n",
        "               [49, 64, 78, 87, 103, 121, 120, 101],\n",
        "               [72, 92, 95, 98, 112, 100, 103, 99]]\n",
        "\n",
        "quantdct = np.divide(dctmat,quantmatrix)\n",
        "quantdct = np.rint(quantdct)\n",
        "quantdct\n"
      ],
      "execution_count": null,
      "outputs": [
        {
          "output_type": "execute_result",
          "data": {
            "text/plain": [
              "array([[ 64.,  -7.,   0.,  -0.,   0.,  -0.,   0.,  -0.],\n",
              "       [ 28.,   0.,   0.,   0.,  -0.,   0.,  -0.,  -0.],\n",
              "       [  0.,   0.,   0.,  -0.,   0.,  -0.,  -0.,  -0.],\n",
              "       [-28.,   0.,  -0.,  -0.,   0.,   0.,  -0.,   0.],\n",
              "       [ -0.,   0.,   0.,  -0.,   0.,  -0.,  -0.,  -0.],\n",
              "       [  8.,   0.,  -0.,   0.,  -0.,   0.,  -0.,  -0.],\n",
              "       [  0.,  -0.,   0.,  -0.,  -0.,   0.,   0.,  -0.],\n",
              "       [ -3.,  -0.,   0.,   0.,  -0.,  -0.,  -0.,  -0.]])"
            ]
          },
          "metadata": {
            "tags": []
          },
          "execution_count": 32
        }
      ]
    },
    {
      "cell_type": "code",
      "metadata": {
        "colab": {
          "base_uri": "https://localhost:8080/"
        },
        "id": "No2TikUmhdPl",
        "outputId": "880f733b-5b2c-4c40-b622-43261fa561f5"
      },
      "source": [
        "dequantized = np.multiply(quantdct, quantmatrix)\n",
        "dequantized"
      ],
      "execution_count": null,
      "outputs": [
        {
          "output_type": "execute_result",
          "data": {
            "text/plain": [
              "array([[1024.,  -77.,    0.,   -0.,    0.,   -0.,    0.,   -0.],\n",
              "       [ 336.,    0.,    0.,    0.,   -0.,    0.,   -0.,   -0.],\n",
              "       [   0.,    0.,    0.,   -0.,    0.,   -0.,   -0.,   -0.],\n",
              "       [-392.,    0.,   -0.,   -0.,    0.,    0.,   -0.,    0.],\n",
              "       [  -0.,    0.,    0.,   -0.,    0.,   -0.,   -0.,   -0.],\n",
              "       [ 192.,    0.,   -0.,    0.,   -0.,    0.,   -0.,   -0.],\n",
              "       [   0.,   -0.,    0.,   -0.,   -0.,    0.,    0.,   -0.],\n",
              "       [-216.,   -0.,    0.,    0.,   -0.,   -0.,   -0.,   -0.]])"
            ]
          },
          "metadata": {
            "tags": []
          },
          "execution_count": 33
        }
      ]
    },
    {
      "cell_type": "markdown",
      "metadata": {
        "id": "RSODST94h4H5"
      },
      "source": [
        "Compare this with the original DCT matrix."
      ]
    },
    {
      "cell_type": "code",
      "metadata": {
        "colab": {
          "base_uri": "https://localhost:8080/"
        },
        "id": "Vco5Ta-xhuNL",
        "outputId": "a7c23b0d-d6e1-4e88-a8a3-51f8f3744aa0"
      },
      "source": [
        "dctmat_rounded"
      ],
      "execution_count": null,
      "outputs": [
        {
          "output_type": "execute_result",
          "data": {
            "text/plain": [
              "array([[1016,  -73,    0,   -7,    0,   -2,    0,    0],\n",
              "       [ 338,    0,    0,    0,    0,    0,    0,    0],\n",
              "       [   0,    0,    0,    0,    0,    0,    0,    0],\n",
              "       [-386,    0,    0,    0,    0,    0,    0,    0],\n",
              "       [   0,    0,    0,    0,    0,    0,    0,    0],\n",
              "       [ 200,    0,    0,    0,    0,    0,    0,    0],\n",
              "       [   0,   -1,    0,    0,    0,    0,    0,    0],\n",
              "       [-189,    0,    0,    0,    0,    0,    0,    0]])"
            ]
          },
          "metadata": {
            "tags": []
          },
          "execution_count": 35
        }
      ]
    },
    {
      "cell_type": "markdown",
      "metadata": {
        "id": "ugvZxWyTiFl1"
      },
      "source": [
        "Lets get the image from the quantized matrix."
      ]
    },
    {
      "cell_type": "code",
      "metadata": {
        "colab": {
          "base_uri": "https://localhost:8080/",
          "height": 417
        },
        "id": "agBLdSQAiE9f",
        "outputId": "906e747d-5560-4dd1-c383-52964e098db5"
      },
      "source": [
        "uncoded = np.empty((8,8), dtype=float)\n",
        "for x in range(8):\n",
        "  for y in range(8):\n",
        "    uncoded[x][y] = dctdecode(dequantized, x, y)\n",
        "\n",
        "uncoded2 = np.uint8(uncoded)\n",
        "uncoded2 = uncoded2 + 128\n",
        "\n",
        "img2 = Img.fromarray(np.uint8(uncoded2) , 'L')\n",
        "\n",
        "large_img = img2.resize((400,400),Img.NEAREST)\n",
        "large_img.save('mypic.png')\n",
        "Image('mypic.png', width=400, height=400)"
      ],
      "execution_count": null,
      "outputs": [
        {
          "output_type": "execute_result",
          "data": {
            "image/png": "[encoded data removed]",
            "text/plain": [
              "<IPython.core.display.Image object>"
            ]
          },
          "metadata": {
            "tags": [],
            "image/png": {
              "width": 400,
              "height": 400
            }
          },
          "execution_count": 41
        }
      ]
    },
    {
      "cell_type": "markdown",
      "metadata": {
        "id": "hajdZrs9iaUy"
      },
      "source": [
        "# "
      ]
    },
    {
      "cell_type": "markdown",
      "metadata": {
        "id": "1pO3a-H2jCLQ"
      },
      "source": [
        "## Lets look at the frequencies\n",
        "\n",
        "We will look at images with only one frequency value."
      ]
    },
    {
      "cell_type": "code",
      "metadata": {
        "colab": {
          "base_uri": "https://localhost:8080/",
          "height": 417
        },
        "id": "zWGO5woijndT",
        "outputId": "5a8f2767-a60a-4a0b-9995-3b4ce0a197e1"
      },
      "source": [
        "dctman = 0\n",
        "dctmat = np.zeros((8,8), dtype=float)\n",
        "dctmat[2][4] = 256\n",
        "\n",
        "uncoded = np.zeros((8,8), dtype=float)\n",
        "for x in range(8):\n",
        "  for y in range(8):\n",
        "    uncoded[x][y] = dctdecode(dctmat, x, y)\n",
        "\n",
        "uncoded = np.uint8(uncoded)\n",
        "uncoded = uncoded + 128\n",
        "\n",
        "img = Img.fromarray(np.uint8(uncoded) , 'L')\n",
        "\n",
        "large_img = img.resize((400,400),Img.NEAREST)\n",
        "large_img.save('mypic.png')\n",
        "Image('mypic.png', width=400, height=400)"
      ],
      "execution_count": null,
      "outputs": [
        {
          "output_type": "execute_result",
          "data": {
            "image/png": "[encoded data removed]",
            "text/plain": [
              "<IPython.core.display.Image object>"
            ]
          },
          "metadata": {
            "tags": [],
            "image/png": {
              "width": 400,
              "height": 400
            }
          },
          "execution_count": 14
        }
      ]
    },
    {
      "cell_type": "code",
      "metadata": {
        "colab": {
          "base_uri": "https://localhost:8080/"
        },
        "id": "8wXJP8RGkDQA",
        "outputId": "ffe7b396-b991-4c7d-9849-02b04b7c1b1c"
      },
      "source": [
        "dctmat"
      ],
      "execution_count": null,
      "outputs": [
        {
          "output_type": "execute_result",
          "data": {
            "text/plain": [
              "array([[1024.        , 1903.26482748, 2384.13171058, 3172.20654227,\n",
              "        2708.64423331, 1660.30557358, 1133.88362975, 1410.77668819],\n",
              "       [1197.34844296, 1648.68933673, 1393.04799729, 2384.90909946,\n",
              "        1709.1465908 , 1514.67453642,  810.2983893 ,  822.97694857],\n",
              "       [2157.50006643, 1440.20664169, 1147.00853718, 2149.59744673,\n",
              "        1827.15627969, 1895.4525748 , 1275.90085182,  801.29497188],\n",
              "       [2040.08409394, 2092.0811759 , 1168.47845726, 2004.68366331,\n",
              "        2065.51054753, 2517.08856749, 1591.13173692, 1264.06645899],\n",
              "       [3069.6164118 , 2567.28698465, 2070.56106883, 2383.06681124,\n",
              "        1901.08874926, 2652.75951064, 1613.62645661,  733.19639557],\n",
              "       [2925.62315556, 2378.52736994, 2647.11340024, 2431.21192792,\n",
              "        2612.14224616, 2532.92913992, 2054.98524652,  912.05437876],\n",
              "       [1629.97112934, 2259.79175027, 2233.10408554, 2288.62305255,\n",
              "        2661.78537215, 2002.36766636, 2345.90247598, 1068.65889103],\n",
              "       [2082.98983844, 2228.62948555, 1936.90016325, 2258.23139178,\n",
              "        2591.14007676, 1995.47288612, 2104.3977654 ,  977.65220361]])"
            ]
          },
          "metadata": {
            "tags": []
          },
          "execution_count": 49
        }
      ]
    },
    {
      "cell_type": "code",
      "metadata": {
        "id": "zuhfNwN2jBu0"
      },
      "source": [
        "mat3 = np.array([[60.,  7., -9.,  5.,  0.,  1., -2., -2.],\n",
        "       [-6., -1., -2., -3.,  3., -1.,  1., -3.],\n",
        "       [-1., -2., -4., -5.,  3., -1., -2.,  2.],\n",
        "       [ 5.,  2., -2., -2., -1., -0.,  1.,  1.],\n",
        "       [ 2., -0., -0.,  0.,  0., -1.,  0., -1.],\n",
        "       [ 1., -3., -1., -1.,  0., -1., -1.,  1.],\n",
        "       [ 2.,  1., -0.,  1.,  1.,  1.,  1.,  1.],\n",
        "       [-0.,  1., -0.,  0.,  0.,  1., -0., -0.]])"
      ],
      "execution_count": null,
      "outputs": []
    },
    {
      "cell_type": "code",
      "metadata": {
        "id": "WqUzDp5khwQX",
        "colab": {
          "base_uri": "https://localhost:8080/",
          "height": 417
        },
        "outputId": "c1767364-c789-42f2-b53f-abcbc232c735"
      },
      "source": [
        "mat3 = np.array([[60.,  7., -9.,  5.,  0.,  1., -2., -2.],\n",
        "       [-6., -1., -2., -3.,  3., -1.,  1., -3.],\n",
        "       [-1., -2., -4., -5.,  3., -1., -2.,  2.],\n",
        "       [ 5.,  2., -2., -2., -1., -0.,  1.,  1.],\n",
        "       [ 2., -0., -0.,  0.,  0., -1.,  0., -1.],\n",
        "       [ 1., -3., -1., -1.,  0., -1., -1.,  1.],\n",
        "       [ 2.,  1., -0.,  1.,  1.,  1.,  1.,  1.],\n",
        "       [-0.,  1., -0.,  0.,  0.,  1., -0., -0.]])\n",
        "\n",
        "# Creates PIL image\n",
        "img = Img.fromarray(np.uint8(mat3 * 255) , 'L')\n",
        "\n",
        "large_img = img.resize((400,400),Img.NEAREST)\n",
        "large_img.save('mypic.png')\n",
        "\n",
        "Image('mypic.png', width=400, height=400)"
      ],
      "execution_count": null,
      "outputs": [
        {
          "output_type": "execute_result",
          "data": {
            "image/png": "[encoded data removed]",
            "text/plain": [
              "<IPython.core.display.Image object>"
            ]
          },
          "metadata": {
            "tags": [],
            "image/png": {
              "width": 400,
              "height": 400
            }
          },
          "execution_count": 44
        }
      ]
    },
    {
      "cell_type": "code",
      "metadata": {
        "id": "TbVC0dz9cnqo"
      },
      "source": [
        ""
      ],
      "execution_count": null,
      "outputs": []
    }
  ]
}